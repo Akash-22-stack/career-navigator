{
 "cells": [
  {
   "cell_type": "code",
   "execution_count": 9,
   "id": "2743cf96",
   "metadata": {},
   "outputs": [
    {
     "data": {
      "text/html": [
       "<div>\n",
       "<style scoped>\n",
       "    .dataframe tbody tr th:only-of-type {\n",
       "        vertical-align: middle;\n",
       "    }\n",
       "\n",
       "    .dataframe tbody tr th {\n",
       "        vertical-align: top;\n",
       "    }\n",
       "\n",
       "    .dataframe thead th {\n",
       "        text-align: right;\n",
       "    }\n",
       "</style>\n",
       "<table border=\"1\" class=\"dataframe\">\n",
       "  <thead>\n",
       "    <tr style=\"text-align: right;\">\n",
       "      <th></th>\n",
       "      <th>job_title</th>\n",
       "      <th>experience_level</th>\n",
       "      <th>employment_type</th>\n",
       "      <th>salary</th>\n",
       "      <th>company_location</th>\n",
       "      <th>num_skills</th>\n",
       "      <th>is_data_scientist</th>\n",
       "      <th>is_developer</th>\n",
       "      <th>is_analyst</th>\n",
       "      <th>interst_area</th>\n",
       "      <th>burnout_risk</th>\n",
       "    </tr>\n",
       "  </thead>\n",
       "  <tbody>\n",
       "  </tbody>\n",
       "</table>\n",
       "</div>"
      ],
      "text/plain": [
       "Empty DataFrame\n",
       "Columns: [job_title, experience_level, employment_type, salary, company_location, num_skills, is_data_scientist, is_developer, is_analyst, interst_area, burnout_risk]\n",
       "Index: []"
      ]
     },
     "execution_count": 9,
     "metadata": {},
     "output_type": "execute_result"
    }
   ],
   "source": [
    "import pandas as pd\n",
    "import numpy as np\n",
    "\n",
    "df = pd.read_csv('../data/cleaned_career_data.csv')\n",
    "df.head(0)"
   ]
  },
  {
   "cell_type": "code",
   "execution_count": 10,
   "id": "5bfd804d",
   "metadata": {},
   "outputs": [],
   "source": [
    "# convert experience_level to numeric\n",
    "level_map = {'EN':0, 'MI':1, 'SE': 2, 'EX':3}\n",
    "df['experience_num'] = df['experience_level'].map(level_map)\n",
    "\n",
    "x = df[['num_skills', 'experience_num', 'is_data_scientist', 'is_developer', 'is_analyst']].values\n",
    "y = df['salary'].values"
   ]
  },
  {
   "cell_type": "code",
   "execution_count": 11,
   "id": "72b1c662",
   "metadata": {},
   "outputs": [],
   "source": [
    "# train test split\n",
    "from sklearn.model_selection import train_test_split\n",
    "x_train, x_test, y_train, y_test = train_test_split(x,y, test_size=0.2, random_state = 42)"
   ]
  },
  {
   "cell_type": "markdown",
   "id": "272a29a7",
   "metadata": {},
   "source": [
    "*train the model*"
   ]
  },
  {
   "cell_type": "code",
   "execution_count": 13,
   "id": "0e30304b",
   "metadata": {},
   "outputs": [
    {
     "name": "stdout",
     "output_type": "stream",
     "text": [
      "weights(coefficients): [  -90.95013357 42410.22767742  1580.61594348  1181.74252412\n",
      "     0.        ]\n",
      "Bias (intercept): 65472.261371436296\n"
     ]
    }
   ],
   "source": [
    "from sklearn.linear_model import LinearRegression\n",
    "\n",
    "model = LinearRegression()\n",
    "model.fit(x_train, y_train)\n",
    "\n",
    "#see how each feature affects salary\n",
    "print(\"weights(coefficients):\", model.coef_)\n",
    "print(\"Bias (intercept):\", model.intercept_)\n"
   ]
  },
  {
   "cell_type": "code",
   "execution_count": 14,
   "id": "e007a700",
   "metadata": {},
   "outputs": [
    {
     "name": "stdout",
     "output_type": "stream",
     "text": [
      "mean squared error: 3059737397.21\n",
      "r2 score: 0.20\n"
     ]
    }
   ],
   "source": [
    "#preict and evaluate\n",
    "y_pred = model.predict(x_test)\n",
    "\n",
    "from sklearn.metrics import mean_squared_error, r2_score\n",
    "mse = mean_squared_error(y_test, y_pred)\n",
    "r2 = r2_score(y_test, y_pred)\n",
    "\n",
    "print(f\"mean squared error: {mse :.2f}\")\n",
    "print(f\"r2 score: {r2:.2f}\")"
   ]
  },
  {
   "cell_type": "code",
   "execution_count": null,
   "id": "cce96ef5",
   "metadata": {},
   "outputs": [],
   "source": []
  }
 ],
 "metadata": {
  "kernelspec": {
   "display_name": "Python 3",
   "language": "python",
   "name": "python3"
  },
  "language_info": {
   "codemirror_mode": {
    "name": "ipython",
    "version": 3
   },
   "file_extension": ".py",
   "mimetype": "text/x-python",
   "name": "python",
   "nbconvert_exporter": "python",
   "pygments_lexer": "ipython3",
   "version": "3.12.4"
  }
 },
 "nbformat": 4,
 "nbformat_minor": 5
}
