{
 "cells": [
  {
   "cell_type": "markdown",
   "id": "92e6fa50",
   "metadata": {},
   "source": [
    "##import libraries\n"
   ]
  },
  {
   "cell_type": "code",
   "execution_count": 23,
   "id": "50ab6932",
   "metadata": {},
   "outputs": [],
   "source": [
    "import numpy as np \n",
    "import matplotlib.pyplot as plt\n",
    "import sklearn as skl\n",
    "import seaborn as sns\n",
    "import pandas as pd\n"
   ]
  },
  {
   "cell_type": "markdown",
   "id": "25483bf0",
   "metadata": {},
   "source": [
    "Load dataset"
   ]
  },
  {
   "cell_type": "code",
   "execution_count": 24,
   "id": "1e9f4bcc",
   "metadata": {},
   "outputs": [
    {
     "data": {
      "text/plain": [
       "Index(['job_title', 'experience_level', 'employment_type', 'salary_in_usd',\n",
       "       'company_location'],\n",
       "      dtype='object')"
      ]
     },
     "execution_count": 24,
     "metadata": {},
     "output_type": "execute_result"
    }
   ],
   "source": [
    "np.random.seed(42)\n",
    "import pandas as pd\n",
    "\n",
    "url = \"https://raw.githubusercontent.com/kestra-io/datasets/main/csv/salaries.csv\"\n",
    "df = pd.read_csv(url)\n",
    "df.head()\n",
    "\n",
    "\n",
    "df = df[['job_title', 'experience_level', 'employment_type','salary_in_usd', 'company_location']]\n",
    "df = df.dropna()\n",
    "df.columns"
   ]
  },
  {
   "cell_type": "markdown",
   "id": "01007c95",
   "metadata": {},
   "source": [
    "Data cleaning\n"
   ]
  },
  {
   "cell_type": "code",
   "execution_count": 25,
   "id": "96c9b755",
   "metadata": {},
   "outputs": [],
   "source": [
    "df = df.rename(columns={\n",
    "    'job_title':'job_title',\n",
    "    'salary_in_usd':'salary'\n",
    "})\n",
    "\n",
    "df['num_skills'] = np.random.randint(3,10, size= len(df))\n",
    "\n",
    "## extract roles from job_title\n",
    "\n",
    "df['is_data_scientist'] = df['job_title'].str.contains('data scientist', case= False).astype(int)\n",
    "df['is_developer'] = df['job_title'].str.contains('developer',case = False).astype(int)\n",
    "df['is_analyst']= df['job_title'].str.contains('anlyst', case = False).astype(int)"
   ]
  },
  {
   "cell_type": "code",
   "execution_count": 26,
   "id": "29888f6a",
   "metadata": {},
   "outputs": [],
   "source": [
    "intersts  =['AI', 'webdev', 'cybersecurity', 'finance', 'healthcare']\n",
    "df['interst_area'] = np.random.choice(intersts, size= len(df))\n",
    "\n",
    "burnout_levels= ['low', 'medium', 'high']\n",
    "df['burnout_risk'] = np.random.choice(burnout_levels,size = len(df), p =[0.6, 0.3 ,0.1])\n"
   ]
  },
  {
   "cell_type": "code",
   "execution_count": 27,
   "id": "a5b4554f",
   "metadata": {},
   "outputs": [
    {
     "name": "stdout",
     "output_type": "stream",
     "text": [
      " cleaned data saved\n"
     ]
    }
   ],
   "source": [
    "# save the clean dataset\n",
    "\n",
    "df.to_csv('../data/cleaned_career_data.csv', index = False)\n",
    "print(\" cleaned data saved\")"
   ]
  },
  {
   "cell_type": "code",
   "execution_count": null,
   "id": "ed872577",
   "metadata": {},
   "outputs": [],
   "source": []
  }
 ],
 "metadata": {
  "kernelspec": {
   "display_name": "Python 3",
   "language": "python",
   "name": "python3"
  },
  "language_info": {
   "codemirror_mode": {
    "name": "ipython",
    "version": 3
   },
   "file_extension": ".py",
   "mimetype": "text/x-python",
   "name": "python",
   "nbconvert_exporter": "python",
   "pygments_lexer": "ipython3",
   "version": "3.12.4"
  }
 },
 "nbformat": 4,
 "nbformat_minor": 5
}
